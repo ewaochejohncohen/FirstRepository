{
 "cells": [
  {
   "cell_type": "markdown",
   "id": "7ce9bc77",
   "metadata": {},
   "source": [
    "The Power of Data Science; Unlocking Insights, Improving Decision Making, and Driving Innovation."
   ]
  },
  {
   "cell_type": "markdown",
   "id": "341bc0c7",
   "metadata": {},
   "source": [
    "INTRODUCTION\n",
    "Data Science has revolutionized the way organizations operate, enabling them to extract valuable insights from vast amounts of data. With the ability to uncover patterns and trends, make predictions, and inform decision-making, Data Science has become an essential tool for businesses across industries. In this context, we will explore the advantages of Data Science and how it has transformed the landscape of modern-day decision-making."
   ]
  },
  {
   "cell_type": "markdown",
   "id": "26e140b8",
   "metadata": {},
   "source": [
    "A List of Data Science Languages\n",
    "1. Python\n",
    "2. R\n",
    "3. SQL\n",
    "4. MATLAB\n",
    "5. Julia\n",
    "6. Scala"
   ]
  },
  {
   "cell_type": "markdown",
   "id": "6e51254c",
   "metadata": {},
   "source": [
    "Data Science Libraries \n",
    "1. Pandas\n",
    "2. NumPy\n",
    "3. Scikit-Learn\n",
    "4. TensorFlow\n",
    "5. PyTorch\n",
    "6. ggplot2\n",
    "7. dplyr\n",
    "8. Apache Spark"
   ]
  },
  {
   "cell_type": "markdown",
   "id": "6c8bfc6e",
   "metadata": {},
   "source": [
    "(Basic) Arithmetic Expressions Example\n",
    "11 + 5 = 16\n",
    "49 / 7 = 7\n",
    "30 - 20 = 10\n",
    "5 * 10 = 50"
   ]
  },
  {
   "cell_type": "code",
   "execution_count": 2,
   "id": "fe8af6d8",
   "metadata": {},
   "outputs": [
    {
     "data": {
      "text/plain": [
       "60"
      ]
     },
     "execution_count": 2,
     "metadata": {},
     "output_type": "execute_result"
    }
   ],
   "source": [
    "2*30"
   ]
  },
  {
   "cell_type": "code",
   "execution_count": 4,
   "id": "f742c469",
   "metadata": {},
   "outputs": [
    {
     "data": {
      "text/plain": [
       "50"
      ]
     },
     "execution_count": 4,
     "metadata": {},
     "output_type": "execute_result"
    }
   ],
   "source": [
    "10+40"
   ]
  },
  {
   "cell_type": "code",
   "execution_count": null,
   "id": "56726709",
   "metadata": {},
   "outputs": [],
   "source": [
    " seconds = seconds % (24 * 3600)\n",
    " minutes = seconds // 60\n",
    " hour = seconds // 3600"
   ]
  },
  {
   "cell_type": "markdown",
   "id": "e296c1a9",
   "metadata": {},
   "source": [
    "Author: Ewaoche John Oluwafemi"
   ]
  },
  {
   "cell_type": "code",
   "execution_count": null,
   "id": "f9d1c19f",
   "metadata": {},
   "outputs": [],
   "source": []
  }
 ],
 "metadata": {
  "kernelspec": {
   "display_name": "Python 3 (ipykernel)",
   "language": "python",
   "name": "python3"
  },
  "language_info": {
   "codemirror_mode": {
    "name": "ipython",
    "version": 3
   },
   "file_extension": ".py",
   "mimetype": "text/x-python",
   "name": "python",
   "nbconvert_exporter": "python",
   "pygments_lexer": "ipython3",
   "version": "3.9.13"
  }
 },
 "nbformat": 4,
 "nbformat_minor": 5
}
